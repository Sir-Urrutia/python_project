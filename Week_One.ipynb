{
 "cells": [
  {
   "cell_type": "markdown",
   "metadata": {
    "colab_type": "text",
    "id": "view-in-github"
   },
   "source": [
    "<a href=\"https://colab.research.google.com/github/Sir-Urrutia/python_project/blob/main/Week_One.ipynb\" target=\"_parent\"><img src=\"https://colab.research.google.com/assets/colab-badge.svg\" alt=\"Open In Colab\"/></a>"
   ]
  },
  {
   "cell_type": "code",
   "execution_count": 3,
   "metadata": {
    "cellView": "code",
    "colab": {
     "base_uri": "https://localhost:8080/"
    },
    "id": "6XEGAhhCQcmv",
    "outputId": "df4285f5-2aa5-40b2-96ad-c7de17955565"
   },
   "outputs": [
    {
     "name": "stdout",
     "output_type": "stream",
     "text": [
      "{\"id\":\"b4dc3b87-de44-4e43-a847-a3a427a0a878\",\"text\":\"It has been estimated that humans use only 10% of their brain.\",\"source\":\"djtech.net\",\"source_url\":\"http:\\/\\/www.djtech.net\\/humor\\/useless_facts.htm\",\"language\":\"en\",\"permalink\":\"https:\\/\\/uselessfacts.jsph.pl\\/b4dc3b87-de44-4e43-a847-a3a427a0a878\"}\n"
     ]
    }
   ],
   "source": [
    "#@title\n",
    "import requests\n",
    "\n",
    "response = requests.get('https://uselessfacts.jsph.pl/random.json?language=en')\n",
    "\n",
    "print(response.text)"
   ]
  },
  {
   "cell_type": "code",
   "execution_count": 4,
   "metadata": {
    "colab": {
     "base_uri": "https://localhost:8080/"
    },
    "id": "0aXZ_qUj9ArJ",
    "outputId": "fdc2d3a0-5396-412c-d694-57e320e2cd0f"
   },
   "outputs": [
    {
     "name": "stdout",
     "output_type": "stream",
     "text": [
      "Months that begin on a Sunday will always have a `Friday the 13th`.\n"
     ]
    }
   ],
   "source": [
    "query_parameters={\n",
    "    'language':'en'\n",
    "}\n",
    "\n",
    "response = requests.get('https://uselessfacts.jsph.pl/random.json', params=query_parameters)\n",
    "\n",
    "print(response.json().get('text'))"
   ]
  },
  {
   "cell_type": "markdown",
   "metadata": {
    "id": "xsc-m2YCjd-D"
   },
   "source": [
    "#Date Structures\n",
    "The **important** ones are lists, dictionaries, and sets"
   ]
  },
  {
   "cell_type": "code",
   "execution_count": 26,
   "metadata": {
    "colab": {
     "base_uri": "https://localhost:8080/"
    },
    "id": "9ii0JtS5jzQZ",
    "outputId": "0b661c7b-8a8c-4314-bdcc-5978d433db8c"
   },
   "outputs": [
    {
     "name": "stdout",
     "output_type": "stream",
     "text": [
      "Kendra\n",
      "['Brandon', 'Kendra', 'Zola']\n"
     ]
    }
   ],
   "source": [
    "data= ['Brandon', 'Kendra']\n",
    "\n",
    "print(data[1])\n",
    "\n",
    "data.append('Zola')\n",
    "\n",
    "print(data)"
   ]
  },
  {
   "cell_type": "markdown",
   "metadata": {
    "id": "seEfoFb4m7aE"
   },
   "source": [
    " #List Slicing  \n",
    " first number- starting number inclusive.  \n",
    " second number- ending number exclusive.  \n",
    "\n"
   ]
  },
  {
   "cell_type": "code",
   "execution_count": 31,
   "metadata": {
    "colab": {
     "base_uri": "https://localhost:8080/"
    },
    "id": "vISwe5S3mB11",
    "outputId": "10a18809-c02d-4919-ad89-4426264df691"
   },
   "outputs": [
    {
     "name": "stdout",
     "output_type": "stream",
     "text": [
      "['Kendra', 'Zola']\n"
     ]
    }
   ],
   "source": [
    "data= ['Brandon', 'Kendra', 'Zola', 'Berenice']\n",
    "\n",
    "print(data[1:3])"
   ]
  },
  {
   "cell_type": "markdown",
   "metadata": {
    "id": "uBh9yuHgnxBN"
   },
   "source": [
    "#Dictionaries and Sets\n"
   ]
  },
  {
   "cell_type": "code",
   "execution_count": 68,
   "metadata": {
    "colab": {
     "base_uri": "https://localhost:8080/"
    },
    "id": "jZrrQ-8hn89P",
    "outputId": "955cf1b8-c7c7-4845-a07c-eb3cb345df17"
   },
   "outputs": [
    {
     "name": "stdout",
     "output_type": "stream",
     "text": [
      "{'Kendra', 'Berenice', 'Brandon', 'Zola'}\n",
      "5\n"
     ]
    }
   ],
   "source": [
    "data= {'Brandon', 'Kendra', 'Zola', 'Berenice'}\n",
    "\n",
    "data_dictionary = {\n",
    "    'Brandon': 5,\n",
    "    'Kendra': 10,\n",
    "    'Zola': 15,\n",
    "    'Berenice': 20\n",
    "}\n",
    "print(data)\n",
    "print(data_dictionary.get('Brandon'))"
   ]
  },
  {
   "cell_type": "markdown",
   "metadata": {
    "id": "sHzv_bqUBfqd"
   },
   "source": [
    "##Control Flow - Loops and Conditionals\n",
    "\n",
    "Iteration - One time through the loop"
   ]
  },
  {
   "cell_type": "code",
   "execution_count": 16,
   "metadata": {
    "colab": {
     "base_uri": "https://localhost:8080/"
    },
    "id": "Sk2nkez7BkRU",
    "outputId": "40a94119-377b-4660-d74b-eb3963442365"
   },
   "outputs": [
    {
     "name": "stdout",
     "output_type": "stream",
     "text": [
      "0 1 2 3 4  \n",
      "0 a 1 b 2 c 3 d 4 e "
     ]
    }
   ],
   "source": [
    "data = ['a', 'b', 'c', 'd', 'e']\n",
    "\n",
    "for i in range(5):\n",
    "  print(i, end= \" \")\n",
    "\n",
    "print(\" \") \n",
    "for i, letter in enumerate(data):\n",
    "    print(i, letter, end=\" \")"
   ]
  },
  {
   "cell_type": "code",
   "execution_count": 39,
   "metadata": {
    "colab": {
     "base_uri": "https://localhost:8080/"
    },
    "id": "BCCtn_rS7qp4",
    "outputId": "a94bd653-4548-49aa-ad65-56711d225127"
   },
   "outputs": [
    {
     "name": "stdout",
     "output_type": "stream",
     "text": [
      "a b c d e special\n",
      "hello\n",
      "it wasn't stop or special\n",
      "loading more...\n",
      "special\n",
      "stop\n"
     ]
    }
   ],
   "source": [
    "data = ['a', 'b', 'c', 'd', 'e']\n",
    "\n",
    "i = 0\n",
    "\n",
    "while i < len(data):\n",
    "  print(data[i], end=\" \")\n",
    "  i += 1\n",
    "\n",
    "while True:\n",
    "  x = input()\n",
    "  if x == \"stop\":\n",
    "    break\n",
    "  elif x == \"special\":\n",
    "    continue\n",
    "  else:\n",
    "    print(\"it wasn't stop or special\")\n",
    "  print(\"loading more...\")"
   ]
  },
  {
   "cell_type": "code",
   "execution_count": 45,
   "metadata": {
    "colab": {
     "base_uri": "https://localhost:8080/"
    },
    "id": "uWH8Rqx7NQqt",
    "outputId": "460bffeb-ee4c-4606-d9d3-0fe118fcfedb"
   },
   "outputs": [
    {
     "name": "stdout",
     "output_type": "stream",
     "text": [
      "Brandon 5\n",
      "Kendra 10\n",
      "Zola 15\n",
      "berenice is here\n"
     ]
    }
   ],
   "source": [
    "data_dictionary = {\n",
    "    'Brandon': 5,\n",
    "    'Kendra': 10,\n",
    "    'Zola': 15,\n",
    "    'Berenice': 20,\n",
    "    'Messi': 30\n",
    "}\n",
    "\n",
    "for key, value in data_dictionary.items():\n",
    "  if value == (20):\n",
    "    print(\"berenice is here\")\n",
    "    break\n",
    "  print(key, value)"
   ]
  },
  {
   "cell_type": "markdown",
   "metadata": {
    "id": "kvJaw-7a6vrg"
   },
   "source": [
    "## Guessing Game\n",
    "Generate a random numnber- random module  \n",
    "do while- python does no have this built in  \n",
    "do something one- possibly repeat it  \n",
    "ask us for a number, if we get it wrong, ask again.  \n",
    "logic for right/wrong: guessed == correct value"
   ]
  },
  {
   "cell_type": "code",
   "execution_count": 26,
   "metadata": {
    "colab": {
     "base_uri": "https://localhost:8080/"
    },
    "id": "u2fVOnY57Hmu",
    "outputId": "e14fd792-41e4-4524-e79d-3d24a9679e79"
   },
   "outputs": [
    {
     "name": "stdout",
     "output_type": "stream",
     "text": [
      "Guess a number between 0 and 100\n",
      "10\n",
      "Guess Higher\n",
      "40\n",
      "Guess Higher\n",
      "70\n",
      "Guess Higher\n",
      "90\n",
      "Guess lower\n",
      "85\n",
      "Guess lower\n",
      "78\n",
      "you win!\n"
     ]
    }
   ],
   "source": [
    "from random import randint\n",
    "low = 0\n",
    "high = 100\n",
    "correct =randint(low, high)\n",
    "\n",
    "print(f\"Guess a number between 0 and 100\")\n",
    "\n",
    "while True:\n",
    "  guess = int(input())\n",
    "\n",
    "  if guess < correct:\n",
    "    print(\"Guess Higher\")\n",
    "  elif guess > correct:\n",
    "    print(\"Guess lower\")\n",
    "  else:\n",
    "    print(\"you win!\")\n",
    "    break"
   ]
  },
  {
   "cell_type": "code",
   "execution_count": 2,
   "metadata": {},
   "outputs": [
    {
     "name": "stdout",
     "output_type": "stream",
     "text": [
      "small change\n"
     ]
    }
   ],
   "source": [
    "print(\"small change\")"
   ]
  }
 ],
 "metadata": {
  "colab": {
   "authorship_tag": "ABX9TyMYqX4akHaKEfTNOd4/KV+K",
   "include_colab_link": true,
   "name": "Week One.ipynb",
   "provenance": []
  },
  "kernelspec": {
   "display_name": "Python 3 (ipykernel)",
   "language": "python",
   "name": "python3"
  },
  "language_info": {
   "codemirror_mode": {
    "name": "ipython",
    "version": 3
   },
   "file_extension": ".py",
   "mimetype": "text/x-python",
   "name": "python",
   "nbconvert_exporter": "python",
   "pygments_lexer": "ipython3",
   "version": "3.10.1"
  }
 },
 "nbformat": 4,
 "nbformat_minor": 4
}
