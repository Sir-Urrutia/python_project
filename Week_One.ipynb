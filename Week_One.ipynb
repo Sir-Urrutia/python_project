{
  "nbformat": 4,
  "nbformat_minor": 0,
  "metadata": {
    "colab": {
      "name": "Week One.ipynb",
      "provenance": [],
      "authorship_tag": "ABX9TyMYqX4akHaKEfTNOd4/KV+K",
      "include_colab_link": true
    },
    "kernelspec": {
      "name": "python3",
      "display_name": "Python 3"
    },
    "language_info": {
      "name": "python"
    }
  },
  "cells": [
    {
      "cell_type": "markdown",
      "metadata": {
        "id": "view-in-github",
        "colab_type": "text"
      },
      "source": [
        "<a href=\"https://colab.research.google.com/github/Sir-Urrutia/python_project/blob/main/Week_One.ipynb\" target=\"_parent\"><img src=\"https://colab.research.google.com/assets/colab-badge.svg\" alt=\"Open In Colab\"/></a>"
      ]
    },
    {
      "cell_type": "code",
      "source": [
        "#@title\n",
        "import requests\n",
        "\n",
        "response = requests.get('https://uselessfacts.jsph.pl/random.json?language=en')\n",
        "\n",
        "print(response.text)"
      ],
      "metadata": {
        "colab": {
          "base_uri": "https://localhost:8080/"
        },
        "cellView": "code",
        "id": "6XEGAhhCQcmv",
        "outputId": "df4285f5-2aa5-40b2-96ad-c7de17955565"
      },
      "execution_count": 3,
      "outputs": [
        {
          "output_type": "stream",
          "name": "stdout",
          "text": [
            "{\"id\":\"b4dc3b87-de44-4e43-a847-a3a427a0a878\",\"text\":\"It has been estimated that humans use only 10% of their brain.\",\"source\":\"djtech.net\",\"source_url\":\"http:\\/\\/www.djtech.net\\/humor\\/useless_facts.htm\",\"language\":\"en\",\"permalink\":\"https:\\/\\/uselessfacts.jsph.pl\\/b4dc3b87-de44-4e43-a847-a3a427a0a878\"}\n"
          ]
        }
      ]
    },
    {
      "cell_type": "code",
      "source": [
        "query_parameters={\n",
        "    'language':'en'\n",
        "}\n",
        "\n",
        "response = requests.get('https://uselessfacts.jsph.pl/random.json', params=query_parameters)\n",
        "\n",
        "print(response.json().get('text'))"
      ],
      "metadata": {
        "colab": {
          "base_uri": "https://localhost:8080/"
        },
        "id": "0aXZ_qUj9ArJ",
        "outputId": "fdc2d3a0-5396-412c-d694-57e320e2cd0f"
      },
      "execution_count": 4,
      "outputs": [
        {
          "output_type": "stream",
          "name": "stdout",
          "text": [
            "Months that begin on a Sunday will always have a `Friday the 13th`.\n"
          ]
        }
      ]
    },
    {
      "cell_type": "markdown",
      "source": [
        "#Date Structures\n",
        "The **important** ones are lists, dictionaries, and sets"
      ],
      "metadata": {
        "id": "xsc-m2YCjd-D"
      }
    },
    {
      "cell_type": "code",
      "source": [
        "data= ['Brandon', 'Kendra']\n",
        "\n",
        "print(data[1])\n",
        "\n",
        "data.append('Zola')\n",
        "\n",
        "print(data)"
      ],
      "metadata": {
        "colab": {
          "base_uri": "https://localhost:8080/"
        },
        "id": "9ii0JtS5jzQZ",
        "outputId": "0b661c7b-8a8c-4314-bdcc-5978d433db8c"
      },
      "execution_count": 26,
      "outputs": [
        {
          "output_type": "stream",
          "name": "stdout",
          "text": [
            "Kendra\n",
            "['Brandon', 'Kendra', 'Zola']\n"
          ]
        }
      ]
    },
    {
      "cell_type": "markdown",
      "source": [
        " #List Slicing  \n",
        " first number- starting number inclusive.  \n",
        " second number- ending number exclusive.  \n",
        "\n"
      ],
      "metadata": {
        "id": "seEfoFb4m7aE"
      }
    },
    {
      "cell_type": "code",
      "source": [
        "data= ['Brandon', 'Kendra', 'Zola', 'Berenice']\n",
        "\n",
        "print(data[1:3])"
      ],
      "metadata": {
        "colab": {
          "base_uri": "https://localhost:8080/"
        },
        "id": "vISwe5S3mB11",
        "outputId": "10a18809-c02d-4919-ad89-4426264df691"
      },
      "execution_count": 31,
      "outputs": [
        {
          "output_type": "stream",
          "name": "stdout",
          "text": [
            "['Kendra', 'Zola']\n"
          ]
        }
      ]
    },
    {
      "cell_type": "markdown",
      "source": [
        "#Dictionaries and Sets\n"
      ],
      "metadata": {
        "id": "uBh9yuHgnxBN"
      }
    },
    {
      "cell_type": "code",
      "source": [
        "data= {'Brandon', 'Kendra', 'Zola', 'Berenice'}\n",
        "\n",
        "data_dictionary = {\n",
        "    'Brandon': 5,\n",
        "    'Kendra': 10,\n",
        "    'Zola': 15,\n",
        "    'Berenice': 20\n",
        "}\n",
        "print(data)\n",
        "print(data_dictionary.get('Brandon'))"
      ],
      "metadata": {
        "colab": {
          "base_uri": "https://localhost:8080/"
        },
        "id": "jZrrQ-8hn89P",
        "outputId": "955cf1b8-c7c7-4845-a07c-eb3cb345df17"
      },
      "execution_count": 68,
      "outputs": [
        {
          "output_type": "stream",
          "name": "stdout",
          "text": [
            "{'Kendra', 'Berenice', 'Brandon', 'Zola'}\n",
            "5\n"
          ]
        }
      ]
    },
    {
      "cell_type": "markdown",
      "source": [
        "##Control Flow - Loops and Conditionals\n",
        "\n",
        "Iteration - One time through the loop"
      ],
      "metadata": {
        "id": "sHzv_bqUBfqd"
      }
    },
    {
      "cell_type": "code",
      "source": [
        "data = ['a', 'b', 'c', 'd', 'e']\n",
        "\n",
        "for i in range(5):\n",
        "  print(i, end= \" \")\n",
        "\n",
        "print(\" \") \n",
        "for i, letter in enumerate(data):\n",
        "    print(i, letter, end=\" \")"
      ],
      "metadata": {
        "colab": {
          "base_uri": "https://localhost:8080/"
        },
        "id": "Sk2nkez7BkRU",
        "outputId": "40a94119-377b-4660-d74b-eb3963442365"
      },
      "execution_count": 16,
      "outputs": [
        {
          "output_type": "stream",
          "name": "stdout",
          "text": [
            "0 1 2 3 4  \n",
            "0 a 1 b 2 c 3 d 4 e "
          ]
        }
      ]
    },
    {
      "cell_type": "code",
      "source": [
        "data = ['a', 'b', 'c', 'd', 'e']\n",
        "\n",
        "i = 0\n",
        "\n",
        "while i < len(data):\n",
        "  print(data[i], end=\" \")\n",
        "  i += 1\n",
        "\n",
        "while True:\n",
        "  x = input()\n",
        "  if x == \"stop\":\n",
        "    break\n",
        "  elif x == \"special\":\n",
        "    continue\n",
        "  else:\n",
        "    print(\"it wasn't stop or special\")\n",
        "  print(\"loading more...\")"
      ],
      "metadata": {
        "colab": {
          "base_uri": "https://localhost:8080/"
        },
        "id": "BCCtn_rS7qp4",
        "outputId": "a94bd653-4548-49aa-ad65-56711d225127"
      },
      "execution_count": 39,
      "outputs": [
        {
          "name": "stdout",
          "output_type": "stream",
          "text": [
            "a b c d e special\n",
            "hello\n",
            "it wasn't stop or special\n",
            "loading more...\n",
            "special\n",
            "stop\n"
          ]
        }
      ]
    },
    {
      "cell_type": "code",
      "source": [
        "data_dictionary = {\n",
        "    'Brandon': 5,\n",
        "    'Kendra': 10,\n",
        "    'Zola': 15,\n",
        "    'Berenice': 20,\n",
        "    'Messi': 30\n",
        "}\n",
        "\n",
        "for key, value in data_dictionary.items():\n",
        "  if value == (20):\n",
        "    print(\"berenice is here\")\n",
        "    break\n",
        "  print(key, value)"
      ],
      "metadata": {
        "colab": {
          "base_uri": "https://localhost:8080/"
        },
        "id": "uWH8Rqx7NQqt",
        "outputId": "460bffeb-ee4c-4606-d9d3-0fe118fcfedb"
      },
      "execution_count": 45,
      "outputs": [
        {
          "output_type": "stream",
          "name": "stdout",
          "text": [
            "Brandon 5\n",
            "Kendra 10\n",
            "Zola 15\n",
            "berenice is here\n"
          ]
        }
      ]
    },
    {
      "cell_type": "markdown",
      "source": [
        "## Guessing Game\n",
        "Generate a random numnber- random module  \n",
        "do while- python does no have this built in  \n",
        "do something one- possibly repeat it  \n",
        "ask us for a number, if we get it wrong, ask again.  \n",
        "logic for right/wrong: guessed == correct value"
      ],
      "metadata": {
        "id": "kvJaw-7a6vrg"
      }
    },
    {
      "cell_type": "code",
      "source": [
        "from random import randint\n",
        "low = 0\n",
        "high = 100\n",
        "correct =randint(low, high)\n",
        "\n",
        "print(f\"Guess a number between 0 and 100\")\n",
        "\n",
        "while True:\n",
        "  guess = int(input())\n",
        "\n",
        "  if guess < correct:\n",
        "    print(\"Guess Higher\")\n",
        "  elif guess > correct:\n",
        "    print(\"Guess lower\")\n",
        "  else:\n",
        "    print(\"you win!\")\n",
        "    break\n"
      ],
      "metadata": {
        "colab": {
          "base_uri": "https://localhost:8080/"
        },
        "id": "u2fVOnY57Hmu",
        "outputId": "e14fd792-41e4-4524-e79d-3d24a9679e79"
      },
      "execution_count": 26,
      "outputs": [
        {
          "output_type": "stream",
          "name": "stdout",
          "text": [
            "Guess a number between 0 and 100\n",
            "10\n",
            "Guess Higher\n",
            "40\n",
            "Guess Higher\n",
            "70\n",
            "Guess Higher\n",
            "90\n",
            "Guess lower\n",
            "85\n",
            "Guess lower\n",
            "78\n",
            "you win!\n"
          ]
        }
      ]
    }
  ]
}